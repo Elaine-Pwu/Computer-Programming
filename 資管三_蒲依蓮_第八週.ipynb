{
  "nbformat": 4,
  "nbformat_minor": 0,
  "metadata": {
    "colab": {
      "provenance": [],
      "authorship_tag": "ABX9TyPPMpOUC32L/4VdL1ckDJyC",
      "include_colab_link": true
    },
    "kernelspec": {
      "name": "python3",
      "display_name": "Python 3"
    },
    "language_info": {
      "name": "python"
    }
  },
  "cells": [
    {
      "cell_type": "markdown",
      "metadata": {
        "id": "view-in-github",
        "colab_type": "text"
      },
      "source": [
        "<a href=\"https://colab.research.google.com/github/Elaine-Pwu/Computer-Programming/blob/main/%E8%B3%87%E7%AE%A1%E4%B8%89_%E8%92%B2%E4%BE%9D%E8%93%AE_%E7%AC%AC%E5%85%AB%E9%80%B1.ipynb\" target=\"_parent\"><img src=\"https://colab.research.google.com/assets/colab-badge.svg\" alt=\"Open In Colab\"/></a>"
      ]
    },
    {
      "cell_type": "markdown",
      "source": [
        "#代辦事項記錄簿"
      ],
      "metadata": {
        "id": "L3WPQq2FSSWF"
      }
    },
    {
      "cell_type": "code",
      "source": [
        "%matplotlib inline\n",
        "\n",
        "import numpy as np\n",
        "import pandas as pd\n",
        "import matplotlib.pyplot as plt"
      ],
      "metadata": {
        "id": "Yyj9ao_WSMye"
      },
      "execution_count": null,
      "outputs": []
    },
    {
      "cell_type": "markdown",
      "source": [
        "> 結合上課所學的pickle，我決定開發一個待辦事項清單來應用"
      ],
      "metadata": {
        "id": "qyRL8oYUSZAO"
      }
    },
    {
      "cell_type": "code",
      "source": [
        "import pickle"
      ],
      "metadata": {
        "id": "OOVGqqt9SJTZ"
      },
      "execution_count": null,
      "outputs": []
    },
    {
      "cell_type": "markdown",
      "source": [
        "> 先建立一個TodoApp的class來存入定義的功能"
      ],
      "metadata": {
        "id": "bYepzMfvUcxp"
      }
    },
    {
      "cell_type": "code",
      "source": [
        "class TodoApp:\n",
        "    def __init__(self):\n",
        "        self.todo_list = []\n",
        "\n",
        "    def add_todo(self, todo):\n",
        "        self.todo_list.append(todo)\n",
        "\n",
        "    def view_todos(self):\n",
        "        if not self.todo_list:\n",
        "            print(\"目前沒有待辦事項\")\n",
        "        else:\n",
        "            print(\"待辦事項清單:\")\n",
        "            for index, todo in enumerate(self.todo_list, start=1):\n",
        "                print(f\"{index}. {todo}\")\n",
        "\n",
        "    def remove_todo(self, index):\n",
        "        try:\n",
        "            todo = self.todo_list.pop(index - 1)\n",
        "            print(f\"已刪除: {todo}\")\n",
        "        except IndexError:\n",
        "            print(\"無效的索引\")\n",
        "\n",
        "    def save_to_file(self, filename):\n",
        "        with open(filename, \"wb\") as file:\n",
        "            pickle.dump(self.todo_list, file)\n",
        "            print(\"待辦事項已存檔\")\n",
        "\n",
        "    def load_from_file(self, filename):\n",
        "        try:\n",
        "            with open(filename, \"rb\") as file:\n",
        "                self.todo_list = pickle.load(file)\n",
        "                print(\"待辦事項已載入\")\n",
        "        except FileNotFoundError:\n",
        "            print(\"找不到檔案\")"
      ],
      "metadata": {
        "id": "FSX0_hUrUAHh"
      },
      "execution_count": null,
      "outputs": []
    },
    {
      "cell_type": "markdown",
      "source": [
        "## 待辦事項清單應用說明書\n",
        "\n",
        "歡迎使用待辦事項清單應用！這個簡單的應用程式允許您輕鬆管理您的待辦事項。以下是一個簡要的使用指南，以協助您使用此應用程式。\n",
        "\n",
        "### 1. 新增待辦事項\n",
        "\n",
        "選擇功能選項 `1` 以新增待辦事項。輸入您想要添加的待辦事項，然後按 Enter 鍵確認。\n",
        "\n",
        "### 2. 查看待辦事項\n",
        "\n",
        "選擇功能選項 `2` 以查看目前的待辦事項清單。如果清單中沒有待辦事項，您將看到相應的提示。\n",
        "\n",
        "### 3. 刪除待辦事項\n",
        "\n",
        "選擇功能選項 `3` 以刪除待辦事項。輸入您想要刪除的待辦事項的編號，然後按 Enter 鍵確認。如果輸入的編號無效，您將收到相應的錯誤消息。\n",
        "\n",
        "### 4. 儲存待辦事項至檔案\n",
        "\n",
        "選擇功能選項 `4` 以將目前的待辦事項清單儲存至檔案。輸入檔案名稱，然後按 Enter 鍵確認。\n",
        "\n",
        "### 5. 載入檔案中的待辦事項\n",
        "\n",
        "選擇功能選項 `5` 以從檔案中載入待辦事項清單。輸入檔案名稱，然後按 Enter 鍵確認。如果指定的檔案不存在，您將收到相應的錯誤消息。\n",
        "\n",
        "### 6. 退出\n",
        "\n",
        "選擇功能選項 `6` 以退出應用程式。\n",
        "\n",
        "---\n",
        "\n",
        "### 注意事項\n",
        "\n",
        "- 請確保輸入有效的選項編號和檔案名稱，以確保正確的操作。\n",
        "- 在刪除待辦事項時，請輸入待辦事項的編號，從而確保刪除正確的項目。\n",
        "- 若要在不同的工作階段之間保留待辦事項清單，請使用存檔和載入功能。\n"
      ],
      "metadata": {
        "id": "X9nXc56YVHqM"
      }
    },
    {
      "cell_type": "code",
      "source": [
        "todo_app = TodoApp()\n",
        "\n",
        "while True:\n",
        "    print(\"\\n選擇功能:\")\n",
        "    print(\"1. 新增待辦事項\")\n",
        "    print(\"2. 查看待辦事項\")\n",
        "    print(\"3. 刪除待辦事項\")\n",
        "    print(\"4. 儲存待辦事項至檔案\")\n",
        "    print(\"5. 載入檔案中的待辦事項\")\n",
        "    print(\"6. 退出\")\n",
        "\n",
        "    choice = input(\"請輸入選擇 (1-6): \")\n",
        "\n",
        "    if choice == \"1\":\n",
        "        todo = input(\"請輸入待辦事項: \")\n",
        "        todo_app.add_todo(todo)\n",
        "    elif choice == \"2\":\n",
        "        todo_app.view_todos()\n",
        "    elif choice == \"3\":\n",
        "        index = int(input(\"請輸入要刪除的待辦事項編號: \"))\n",
        "        todo_app.remove_todo(index)\n",
        "    elif choice == \"4\":\n",
        "        filename = input(\"請輸入檔案名稱: \")\n",
        "        todo_app.save_to_file(filename)\n",
        "    elif choice == \"5\":\n",
        "        filename = input(\"請輸入檔案名稱: \")\n",
        "        todo_app.load_from_file(filename)\n",
        "    elif choice == \"6\":\n",
        "        print(\"感謝使用，再見！\")\n",
        "        break\n",
        "    else:\n",
        "        print(\"請輸入有效的選擇 (1-6)\")\n"
      ],
      "metadata": {
        "colab": {
          "base_uri": "https://localhost:8080/"
        },
        "id": "PevIOE8HRq0M",
        "outputId": "aa0e31be-5b9c-4071-8955-8d6955fc5e59"
      },
      "execution_count": null,
      "outputs": [
        {
          "output_type": "stream",
          "name": "stdout",
          "text": [
            "\n",
            "選擇功能:\n",
            "1. 新增待辦事項\n",
            "2. 查看待辦事項\n",
            "3. 刪除待辦事項\n",
            "4. 儲存待辦事項至檔案\n",
            "5. 載入檔案中的待辦事項\n",
            "6. 退出\n",
            "請輸入選擇 (1-6): 1\n",
            "請輸入待辦事項: calculus\n",
            "\n",
            "選擇功能:\n",
            "1. 新增待辦事項\n",
            "2. 查看待辦事項\n",
            "3. 刪除待辦事項\n",
            "4. 儲存待辦事項至檔案\n",
            "5. 載入檔案中的待辦事項\n",
            "6. 退出\n",
            "請輸入選擇 (1-6): 2\n",
            "待辦事項清單:\n",
            "1. calculus\n",
            "\n",
            "選擇功能:\n",
            "1. 新增待辦事項\n",
            "2. 查看待辦事項\n",
            "3. 刪除待辦事項\n",
            "4. 儲存待辦事項至檔案\n",
            "5. 載入檔案中的待辦事項\n",
            "6. 退出\n",
            "請輸入選擇 (1-6): 1\n",
            "請輸入待辦事項: linear algebra\n",
            "\n",
            "選擇功能:\n",
            "1. 新增待辦事項\n",
            "2. 查看待辦事項\n",
            "3. 刪除待辦事項\n",
            "4. 儲存待辦事項至檔案\n",
            "5. 載入檔案中的待辦事項\n",
            "6. 退出\n",
            "請輸入選擇 (1-6): 2\n",
            "待辦事項清單:\n",
            "1. calculus\n",
            "2. linear algebra\n",
            "\n",
            "選擇功能:\n",
            "1. 新增待辦事項\n",
            "2. 查看待辦事項\n",
            "3. 刪除待辦事項\n",
            "4. 儲存待辦事項至檔案\n",
            "5. 載入檔案中的待辦事項\n",
            "6. 退出\n",
            "請輸入選擇 (1-6): 3\n",
            "請輸入要刪除的待辦事項編號: 1\n",
            "已刪除: calculus\n",
            "\n",
            "選擇功能:\n",
            "1. 新增待辦事項\n",
            "2. 查看待辦事項\n",
            "3. 刪除待辦事項\n",
            "4. 儲存待辦事項至檔案\n",
            "5. 載入檔案中的待辦事項\n",
            "6. 退出\n",
            "請輸入選擇 (1-6): 2\n",
            "待辦事項清單:\n",
            "1. linear algebra\n",
            "\n",
            "選擇功能:\n",
            "1. 新增待辦事項\n",
            "2. 查看待辦事項\n",
            "3. 刪除待辦事項\n",
            "4. 儲存待辦事項至檔案\n",
            "5. 載入檔案中的待辦事項\n",
            "6. 退出\n",
            "請輸入選擇 (1-6): 4\n",
            "請輸入檔案名稱: math\n",
            "待辦事項已存檔\n",
            "\n",
            "選擇功能:\n",
            "1. 新增待辦事項\n",
            "2. 查看待辦事項\n",
            "3. 刪除待辦事項\n",
            "4. 儲存待辦事項至檔案\n",
            "5. 載入檔案中的待辦事項\n",
            "6. 退出\n",
            "請輸入選擇 (1-6): 6\n",
            "感謝使用，再見！\n"
          ]
        }
      ]
    }
  ]
}